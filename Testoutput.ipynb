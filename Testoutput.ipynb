{
 "cells": [
  {
   "cell_type": "code",
   "execution_count": 1,
   "id": "fd4ce0dc",
   "metadata": {
    "execution": {
     "iopub.execute_input": "2022-11-02T09:22:41.152202Z",
     "iopub.status.busy": "2022-11-02T09:22:41.152202Z",
     "iopub.status.idle": "2022-11-02T09:22:41.461370Z",
     "shell.execute_reply": "2022-11-02T09:22:41.461370Z"
    },
    "papermill": {
     "duration": 0.314784,
     "end_time": "2022-11-02T09:22:41.463000",
     "exception": false,
     "start_time": "2022-11-02T09:22:41.148216",
     "status": "completed"
    },
    "tags": []
   },
   "outputs": [],
   "source": [
    "from pandas import DataFrame\n",
    "\n",
    "data = {'Product': ['Desktop Computer','Tablet','iPhone','Laptop'],\n",
    "        'Price': [700,250,800,1200]\n",
    "        }\n",
    "\n",
    "df = DataFrame(data, columns= ['Product', 'Price'])\n",
    "df.to_json(r'outjson.json')"
   ]
  },
  {
   "cell_type": "code",
   "execution_count": null,
   "id": "43c07929",
   "metadata": {
    "papermill": {
     "duration": 0.000996,
     "end_time": "2022-11-02T09:22:41.465928",
     "exception": false,
     "start_time": "2022-11-02T09:22:41.464932",
     "status": "completed"
    },
    "tags": []
   },
   "outputs": [],
   "source": []
  }
 ],
 "metadata": {
  "kernelspec": {
   "display_name": "Python 3 (ipykernel)",
   "language": "python",
   "name": "python3"
  },
  "language_info": {
   "codemirror_mode": {
    "name": "ipython",
    "version": 3
   },
   "file_extension": ".py",
   "mimetype": "text/x-python",
   "name": "python",
   "nbconvert_exporter": "python",
   "pygments_lexer": "ipython3",
   "version": "3.10.6"
  },
  "papermill": {
   "default_parameters": {},
   "duration": 2.457923,
   "end_time": "2022-11-02T09:22:41.712408",
   "environment_variables": {},
   "exception": null,
   "input_path": "Test.ipynb",
   "output_path": "Testoutput.ipynb",
   "parameters": {},
   "start_time": "2022-11-02T09:22:39.254485",
   "version": "2.4.0"
  }
 },
 "nbformat": 4,
 "nbformat_minor": 5
}