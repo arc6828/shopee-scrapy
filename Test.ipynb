{
 "cells": [
  {
   "cell_type": "code",
   "execution_count": 1,
   "id": "fd4ce0dc",
   "metadata": {},
   "outputs": [],
   "source": [
    "from pandas import DataFrame\n",
    "\n",
    "data = {'Product': ['Desktop Computer','Tablet','iPhone','Laptop'],\n",
    "        'Price': [700,250,800,1200]\n",
    "        }\n",
    "\n",
    "df = DataFrame(data, columns= ['Product', 'Price'])\n",
    "df.to_json(r'outjson.json')"
   ]
  },
  {
   "cell_type": "code",
   "execution_count": null,
   "id": "43c07929",
   "metadata": {},
   "outputs": [],
   "source": []
  }
 ],
 "metadata": {
  "kernelspec": {
   "display_name": "Python 3 (ipykernel)",
   "language": "python",
   "name": "python3"
  },
  "language_info": {
   "codemirror_mode": {
    "name": "ipython",
    "version": 3
   },
   "file_extension": ".py",
   "mimetype": "text/x-python",
   "name": "python",
   "nbconvert_exporter": "python",
   "pygments_lexer": "ipython3",
   "version": "3.10.6"
  }
 },
 "nbformat": 4,
 "nbformat_minor": 5
}
