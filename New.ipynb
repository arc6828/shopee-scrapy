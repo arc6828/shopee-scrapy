{
 "cells": [
  {
   "cell_type": "code",
   "execution_count": 18,
   "metadata": {},
   "outputs": [
    {
     "name": "stdout",
     "output_type": "stream",
     "text": [
      "NEW\n"
     ]
    }
   ],
   "source": [
    "print(\"NEW\")"
   ]
  },
  {
   "cell_type": "code",
   "execution_count": 19,
   "metadata": {},
   "outputs": [
    {
     "name": "stdout",
     "output_type": "stream",
     "text": [
      "This is Test File\n"
     ]
    }
   ],
   "source": [
    "if(True):\n",
    "    %run Test.py\n",
    "else :\n",
    "    print(\"0\")"
   ]
  }
 ],
 "metadata": {
  "kernelspec": {
   "display_name": "Python 3.10.6 ('shopee-scrapy': venv)",
   "language": "python",
   "name": "python3"
  },
  "language_info": {
   "codemirror_mode": {
    "name": "ipython",
    "version": 3
   },
   "file_extension": ".py",
   "mimetype": "text/x-python",
   "name": "python",
   "nbconvert_exporter": "python",
   "pygments_lexer": "ipython3",
   "version": "3.10.6"
  },
  "orig_nbformat": 4,
  "vscode": {
   "interpreter": {
    "hash": "c052413f9ff79fb09df4338f3651f1e18015dd63670fe709536f378e4bea2b19"
   }
  }
 },
 "nbformat": 4,
 "nbformat_minor": 2
}
